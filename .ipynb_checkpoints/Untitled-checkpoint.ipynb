{
 "cells": [
  {
   "cell_type": "code",
   "execution_count": 2,
   "id": "1d11ff80",
   "metadata": {},
   "outputs": [
    {
     "name": "stdout",
     "output_type": "stream",
     "text": [
      "333\n"
     ]
    },
    {
     "data": {
      "text/plain": [
       "7"
      ]
     },
     "execution_count": 2,
     "metadata": {},
     "output_type": "execute_result"
    }
   ],
   "source": [
    "print(333)\n",
    "3+4\n"
   ]
  },
  {
   "cell_type": "code",
   "execution_count": 3,
   "id": "11c4316f",
   "metadata": {},
   "outputs": [
    {
     "name": "stdout",
     "output_type": "stream",
     "text": [
      "mohamedsalama\n"
     ]
    }
   ],
   "source": [
    "name1='mohamed'\n",
    "name2='salama'\n",
    "print(name1+name2)"
   ]
  },
  {
   "cell_type": "code",
   "execution_count": 7,
   "id": "08750627",
   "metadata": {},
   "outputs": [
    {
     "name": "stdout",
     "output_type": "stream",
     "text": [
      "z = 9\n"
     ]
    }
   ],
   "source": [
    "n=3\n",
    "n1=6\n",
    "z=n+n1\n",
    "print('z =',z)"
   ]
  },
  {
   "cell_type": "code",
   "execution_count": 8,
   "id": "3f7a7bf1",
   "metadata": {},
   "outputs": [
    {
     "name": "stdout",
     "output_type": "stream",
     "text": [
      "enter frist num : 4\n",
      "enter second num : 5\n",
      "9\n"
     ]
    }
   ],
   "source": [
    "num1=int(input(\"enter frist num : \"))\n",
    "num2=int(input(\"enter second num : \"))\n",
    "num3=num1+num2\n",
    "print(num3)"
   ]
  },
  {
   "cell_type": "code",
   "execution_count": 10,
   "id": "b6def4f2",
   "metadata": {},
   "outputs": [
    {
     "name": "stdout",
     "output_type": "stream",
     "text": [
      "['mohamed', 12.4, 15, 'b']\n",
      "length :4\n"
     ]
    }
   ],
   "source": [
    "list1=['mohamed',12.4,15,'b']\n",
    "print(list1)\n",
    "print(f\"length :{len(list1)}\")"
   ]
  },
  {
   "cell_type": "code",
   "execution_count": 26,
   "id": "7f9aefc6",
   "metadata": {},
   "outputs": [
    {
     "data": {
      "text/plain": [
       "['mohamed', 'mosalama', 12.4, 15, 'python', 'python', 'python', 'python', 'b']"
      ]
     },
     "execution_count": 26,
     "metadata": {},
     "output_type": "execute_result"
    }
   ],
   "source": [
    "list1\n",
    "list1.reverse()\n",
    "list1.insert(1,\"mosalama\")\n",
    "list1"
   ]
  },
  {
   "cell_type": "code",
   "execution_count": 19,
   "id": "0aa181ea",
   "metadata": {},
   "outputs": [
    {
     "data": {
      "text/plain": [
       "'python'"
      ]
     },
     "execution_count": 19,
     "metadata": {},
     "output_type": "execute_result"
    }
   ],
   "source": [
    "list1.pop(0)"
   ]
  },
  {
   "cell_type": "code",
   "execution_count": 20,
   "id": "e08bc18f",
   "metadata": {
    "scrolled": true
   },
   "outputs": [
    {
     "data": {
      "text/plain": [
       "['python', 'python', 'python', 'python', 'b', 15, 12.4, 'mohamed']"
      ]
     },
     "execution_count": 20,
     "metadata": {},
     "output_type": "execute_result"
    }
   ],
   "source": [
    "list1"
   ]
  },
  {
   "cell_type": "code",
   "execution_count": 25,
   "id": "11c8106a",
   "metadata": {},
   "outputs": [
    {
     "data": {
      "text/plain": [
       "[1, 4, 56, 78, 80]"
      ]
     },
     "execution_count": 25,
     "metadata": {},
     "output_type": "execute_result"
    }
   ],
   "source": [
    "list2=[80,1,4,56,78]\n",
    "list2.sort()\n",
    "list2"
   ]
  },
  {
   "cell_type": "code",
   "execution_count": 27,
   "id": "da6b6920",
   "metadata": {},
   "outputs": [
    {
     "name": "stdout",
     "output_type": "stream",
     "text": [
      "sold\n"
     ]
    }
   ],
   "source": [
    "#nested list\n",
    "list3=[['water','sold'],['mohamed','salama']]\n",
    "print(list3[0][1])#sold\n"
   ]
  },
  {
   "cell_type": "code",
   "execution_count": 32,
   "id": "ba72fd01",
   "metadata": {},
   "outputs": [
    {
     "name": "stdout",
     "output_type": "stream",
     "text": [
      "water sold mohamed salama "
     ]
    }
   ],
   "source": [
    "for i in range(len(list3)):\n",
    "    for j in range(2):\n",
    "        print(list3[i][j] ,end=\" \")"
   ]
  },
  {
   "cell_type": "code",
   "execution_count": 30,
   "id": "65636b58",
   "metadata": {},
   "outputs": [
    {
     "name": "stdout",
     "output_type": "stream",
     "text": [
      "['water', 'sold']\n",
      "['mohamed', 'salama']\n"
     ]
    }
   ],
   "source": [
    "for i in list3:\n",
    "    print(i)"
   ]
  },
  {
   "cell_type": "code",
   "execution_count": 33,
   "id": "360f09b0",
   "metadata": {},
   "outputs": [
    {
     "name": "stdout",
     "output_type": "stream",
     "text": [
      "even num : 0\n",
      "old num : 1\n",
      "even num : 2\n",
      "old num : 3\n",
      "even num : 4\n",
      "old num : 5\n",
      "even num : 6\n",
      "old num : 7\n",
      "even num : 8\n",
      "old num : 9\n"
     ]
    }
   ],
   "source": [
    "for i in range(10):\n",
    "    if i%2==0:\n",
    "        print(i,\"even num :\")\n",
    "    else:\n",
    "        print(i,\"old num :\")"
   ]
  },
  {
   "cell_type": "code",
   "execution_count": 36,
   "id": "0a84e462",
   "metadata": {
    "scrolled": true
   },
   "outputs": [
    {
     "name": "stdout",
     "output_type": "stream",
     "text": [
      "1 old num :\n",
      "3 old num :\n",
      "5 old num :\n",
      "7 old num :\n",
      "9 old num :\n"
     ]
    }
   ],
   "source": [
    "for i in range(10):\n",
    "    if i%2==0:\n",
    "            continue\n",
    "     \n",
    "    else:\n",
    "        print(i,\"old num :\")"
   ]
  },
  {
   "cell_type": "code",
   "execution_count": 37,
   "id": "ecb5a419",
   "metadata": {},
   "outputs": [
    {
     "name": "stdout",
     "output_type": "stream",
     "text": [
      "1 old num :\n"
     ]
    }
   ],
   "source": [
    "for i in range(1,10):\n",
    "    if i%2==0:\n",
    "        break\n",
    "    else:\n",
    "        print(i,\"old num :\")\n",
    "        "
   ]
  },
  {
   "cell_type": "code",
   "execution_count": 41,
   "id": "2242a152",
   "metadata": {},
   "outputs": [
    {
     "name": "stdout",
     "output_type": "stream",
     "text": [
      "*\n",
      "**\n",
      "***\n",
      "****\n",
      "*****\n"
     ]
    }
   ],
   "source": [
    "for i in range(5):\n",
    "    for j in range(i+1):\n",
    "        print(\"*\",end=\"\")\n",
    "    print('')\n",
    "  "
   ]
  },
  {
   "cell_type": "code",
   "execution_count": 46,
   "id": "87a8dfb3",
   "metadata": {},
   "outputs": [
    {
     "name": "stdout",
     "output_type": "stream",
     "text": [
      "mhmd\n"
     ]
    }
   ],
   "source": [
    "#remove velows\n",
    "word='Mohamed'\n",
    "listVelows=['a','e','o','i','u']\n",
    "lower=word.lower()\n",
    "for i in lower:\n",
    "    if i in listVelows:\n",
    "        lower=lower.replace(i,'')\n",
    "print(lower)"
   ]
  },
  {
   "cell_type": "code",
   "execution_count": 56,
   "id": "ef3c500d",
   "metadata": {},
   "outputs": [
    {
     "name": "stdout",
     "output_type": "stream",
     "text": [
      "[2, 5, 15]\n"
     ]
    }
   ],
   "source": [
    "statement=\"This is JaveScribt\"\n",
    "pos=[]\n",
    "for i in range(len(statement)):\n",
    "    if statement[i]=='I' or statement[i]=='i':\n",
    "        pos.append(i)\n",
    "print(pos)\n",
    "   \n",
    "    "
   ]
  },
  {
   "cell_type": "code",
   "execution_count": 67,
   "id": "21867026",
   "metadata": {},
   "outputs": [],
   "source": [
    "#multiplication table\n",
    "def mul(num):\n",
    "    for i in range(num+1):\n",
    "        for j in range(i):\n",
    "            print(i*(j+1),end=' ')\n",
    "        print()\n",
    "        "
   ]
  },
  {
   "cell_type": "code",
   "execution_count": 69,
   "id": "d03f8786",
   "metadata": {},
   "outputs": [
    {
     "name": "stdout",
     "output_type": "stream",
     "text": [
      "\n",
      "1 \n",
      "2 4 \n",
      "3 6 9 \n"
     ]
    }
   ],
   "source": [
    "mul(3)"
   ]
  },
  {
   "cell_type": "code",
   "execution_count": 70,
   "id": "71089870",
   "metadata": {},
   "outputs": [
    {
     "data": {
      "text/plain": [
       "True"
      ]
     },
     "execution_count": 70,
     "metadata": {},
     "output_type": "execute_result"
    }
   ],
   "source": [
    "import webbrowser\n",
    "import random\n",
    "list=['https://www.youtube.com/watch?v=NzyuxPtrRRM&list=PLxIvc-MGOs6ib0oK1z9C46DeKd9rRcSMY','https://www.google.com/maps']\n",
    "nextOpen=random.choice(list)\n",
    "#webbrowser.open(nextOpen)"
   ]
  },
  {
   "cell_type": "code",
   "execution_count": null,
   "id": "fd0ae9e8",
   "metadata": {},
   "outputs": [],
   "source": []
  }
 ],
 "metadata": {
  "kernelspec": {
   "display_name": "Python 3",
   "language": "python",
   "name": "python3"
  },
  "language_info": {
   "codemirror_mode": {
    "name": "ipython",
    "version": 3
   },
   "file_extension": ".py",
   "mimetype": "text/x-python",
   "name": "python",
   "nbconvert_exporter": "python",
   "pygments_lexer": "ipython3",
   "version": "3.8.8"
  }
 },
 "nbformat": 4,
 "nbformat_minor": 5
}
